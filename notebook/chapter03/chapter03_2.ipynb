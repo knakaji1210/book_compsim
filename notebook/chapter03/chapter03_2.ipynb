{
 "cells": [
  {
   "cell_type": "code",
   "execution_count": 1,
   "id": "d193bfc9-3278-48c9-84f6-40f0d303fa58",
   "metadata": {
    "tags": []
   },
   "outputs": [
    {
     "data": {
      "text/html": [
       "<div id=\"glowscript\" class=\"glowscript\"></div>"
      ],
      "text/plain": [
       "<IPython.core.display.HTML object>"
      ]
     },
     "metadata": {},
     "output_type": "display_data"
    },
    {
     "data": {
      "application/javascript": [
       "if (typeof Jupyter !== \"undefined\") { window.__context = { glowscript_container: $(\"#glowscript\").removeAttr(\"id\")};}else{ element.textContent = ' ';}"
      ],
      "text/plain": [
       "<IPython.core.display.Javascript object>"
      ]
     },
     "metadata": {},
     "output_type": "display_data"
    }
   ],
   "source": [
    "# -*- coding: utf-8 -*-\n",
    "import numpy as np\n",
    "import vpython as vp\n",
    "\n",
    "%matplotlib inline\n",
    "\n",
    "# Jupyter LabでVPythonを動かすためには\n",
    "# % pip3 install jupyterlab-vpython\n",
    "# が必要だった。"
   ]
  },
  {
   "cell_type": "code",
   "execution_count": null,
   "id": "e13d1e34-5541-4b9b-85a7-1a25a7ebec01",
   "metadata": {
    "tags": []
   },
   "outputs": [],
   "source": [
    "b = vp.box()"
   ]
  },
  {
   "cell_type": "code",
   "execution_count": null,
   "id": "e01cf0db-777e-488a-9e4b-8e3138d5623d",
   "metadata": {},
   "outputs": [],
   "source": [
    "b.color = vp.vector(1,1,0)"
   ]
  },
  {
   "cell_type": "code",
   "execution_count": null,
   "id": "1aab9808-add1-4702-aabe-54fc4955df8e",
   "metadata": {
    "tags": []
   },
   "outputs": [],
   "source": [
    "b.size = vp.vector(1,2,5)"
   ]
  },
  {
   "cell_type": "code",
   "execution_count": null,
   "id": "e48cc185-e305-44a9-81ae-16b69f1b7f89",
   "metadata": {
    "tags": []
   },
   "outputs": [],
   "source": [
    "b.pos = vp.vector(2,0,-5)"
   ]
  },
  {
   "cell_type": "code",
   "execution_count": null,
   "id": "1ad29fbb-e88f-43af-b8e3-7cb7306db3f3",
   "metadata": {
    "tags": []
   },
   "outputs": [],
   "source": [
    "# キャンバスの作成\n",
    "scene = vp.canvas(width=600, height=300, title='Cube-Spring') # Enable to restart\n",
    "# 3次元空間内の原点を見るために，球を原点に配置。\n",
    "orig = vp.sphere(pos=vp.vector(0,0,0), radius=0.1, color=vp.color.red)"
   ]
  },
  {
   "cell_type": "code",
   "execution_count": null,
   "id": "aced77b8-f91a-498e-9192-22b2a76ef49a",
   "metadata": {
    "tags": []
   },
   "outputs": [],
   "source": [
    "# オブジェクトの作成\n",
    "# 立方体\n",
    "cube_size = 1\n",
    "cube = vp.box(size=vp.vector(cube_size, cube_size, cube_size), color=vp.color.orange)\n",
    "cube.pos = vp.vector(0, cube.height/2, 0)"
   ]
  },
  {
   "cell_type": "code",
   "execution_count": null,
   "id": "d4a5aef7-a392-4f33-945e-3c3345791956",
   "metadata": {
    "tags": []
   },
   "outputs": [],
   "source": [
    "# 床\n",
    "floor = vp.box(length=5.0, height=0.1, width=cube_size+0.2, color=vp.color.green)\n",
    "floor.pos = vp.vector(0, -floor.height/2, 0)"
   ]
  },
  {
   "cell_type": "code",
   "execution_count": null,
   "id": "b3f76380-ad97-4601-bd74-2ff44b8a645f",
   "metadata": {
    "tags": []
   },
   "outputs": [],
   "source": [
    "# 壁\n",
    "wall  = vp.box(length=0.1, height=1.5, width=floor.width, color=vp.color.yellow)\n",
    "wall.pos = vp.vector((-wall.length/2-floor.length/2), (wall.height/2 - floor.height) , 0)"
   ]
  },
  {
   "cell_type": "code",
   "execution_count": null,
   "id": "990daaef-5923-456e-bae7-12036320255e",
   "metadata": {
    "tags": []
   },
   "outputs": [],
   "source": [
    "#equi_length = box_size/2+floor.height/2 #バネの自然長\n",
    "#wall_surface_pos = cube_size/2+floor.height/2"
   ]
  },
  {
   "cell_type": "code",
   "execution_count": null,
   "id": "dcb90805-4ce3-4b0c-ba7e-d6ad19154ae8",
   "metadata": {
    "tags": []
   },
   "outputs": [],
   "source": [
    "# バネ\n",
    "spring_pos_wall = vp.vector((wall.pos.x+wall.length/2), cube.pos.y, cube.pos.z )\n",
    "spring_pos_cube = vp.vector( (cube.pos.x-cube.length/2), cube.pos.y, cube.pos.z)\n",
    "spring = vp.helix(pos=spring_pos_wall, axis=(spring_pos_cube - spring_pos_wall), \n",
    "                  radius=0.2,     # バネ径の半径\n",
    "                  thickness=0.05, # バネ寸法\n",
    "                  coils=8,        # バネ巻数\n",
    "                  color=vp.vector(0, 1, 1) # cyan\n",
    "                 )"
   ]
  },
  {
   "cell_type": "code",
   "execution_count": null,
   "id": "7efd8598-d1b3-41fe-a9e3-85c0e23bde74",
   "metadata": {
    "tags": []
   },
   "outputs": [],
   "source": [
    "def func_pos(k):\n",
    "    return np.sin(k*0.1)\n",
    "\n",
    "for k in range(100):\n",
    "    vp.sleep(0.1)\n",
    "    x_pos = func_pos(k)\n",
    "    cube.pos = vp.vector(x_pos, cube.pos.y, 0)\n",
    "    spring_pos_cube = vp.vector( (cube.pos.x-cube.length/2), cube.pos.y, cube.pos.z)\n",
    "    spring.axis = spring_pos_cube - spring_pos_wall"
   ]
  },
  {
   "cell_type": "code",
   "execution_count": 3,
   "id": "b0ec55d8-74c6-4f24-9ffb-6d6a8a8dcc88",
   "metadata": {},
   "outputs": [],
   "source": [
    "# -*- coding: utf-8 -*-\n",
    "import numpy as np\n",
    "import matplotlib.pyplot as plt\n",
    "import vpython as vp\n",
    "\n",
    "%matplotlib inline"
   ]
  },
  {
   "cell_type": "code",
   "execution_count": 4,
   "id": "c1bfc689-32f1-4ab5-8798-064486d2f401",
   "metadata": {
    "tags": []
   },
   "outputs": [
    {
     "data": {
      "text/html": [
       "<div id=\"glowscript\" class=\"glowscript\"></div>"
      ],
      "text/plain": [
       "<IPython.core.display.HTML object>"
      ]
     },
     "metadata": {},
     "output_type": "display_data"
    },
    {
     "data": {
      "application/javascript": [
       "if (typeof Jupyter !== \"undefined\") { window.__context = { glowscript_container: $(\"#glowscript\").removeAttr(\"id\")};}else{ element.textContent = ' ';}"
      ],
      "text/plain": [
       "<IPython.core.display.Javascript object>"
      ]
     },
     "metadata": {},
     "output_type": "display_data"
    }
   ],
   "source": [
    "# Create Scene\n",
    "scene = vp.canvas(width=600, height=400, title='Animation') # Enable to restart\n",
    "scene.camera.pos  = vs.vector(0, 6, 10)\n",
    "scene.camera.axis = vs.vector(0, -2, -8) - scene.camera.pos"
   ]
  },
  {
   "cell_type": "code",
   "execution_count": 6,
   "id": "1a6419a5-01c6-48e5-b72f-5dacaba4ff31",
   "metadata": {
    "tags": []
   },
   "outputs": [],
   "source": [
    "# 床の作成，床の真ん中を原点とする\n",
    "floor = vp.box(length=40, height=0.8, width=60, color=vp.color.green)\n",
    "floor.pos = vs.vector( 0, -(floor.height/2), -floor.width/2)"
   ]
  },
  {
   "cell_type": "code",
   "execution_count": null,
   "id": "99233ad0-bd82-4932-bc29-903b16fa006f",
   "metadata": {},
   "outputs": [],
   "source": []
  }
 ],
 "metadata": {
  "kernelspec": {
   "display_name": "Python 3 (ipykernel)",
   "language": "python",
   "name": "python3"
  },
  "language_info": {
   "codemirror_mode": {
    "name": "ipython",
    "version": 3
   },
   "file_extension": ".py",
   "mimetype": "text/x-python",
   "name": "python",
   "nbconvert_exporter": "python",
   "pygments_lexer": "ipython3",
   "version": "3.11.3"
  }
 },
 "nbformat": 4,
 "nbformat_minor": 5
}
