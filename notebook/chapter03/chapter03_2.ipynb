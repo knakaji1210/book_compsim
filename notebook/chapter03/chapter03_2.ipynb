{
 "cells": [
  {
   "cell_type": "code",
   "execution_count": null,
   "id": "d193bfc9-3278-48c9-84f6-40f0d303fa58",
   "metadata": {
    "tags": []
   },
   "outputs": [],
   "source": [
    "# -*- coding: utf-8 -*-\n",
    "import numpy as np\n",
    "import vpython as vp\n",
    "\n",
    "%matplotlib inline\n",
    "\n",
    "# Jupyter LabでVPythonを動かすためには\n",
    "# % pip3 install jupyterlab-vpython\n",
    "# が必要だった。"
   ]
  },
  {
   "cell_type": "code",
   "execution_count": null,
   "id": "e13d1e34-5541-4b9b-85a7-1a25a7ebec01",
   "metadata": {
    "tags": []
   },
   "outputs": [],
   "source": [
    "b = vp.box()"
   ]
  },
  {
   "cell_type": "code",
   "execution_count": null,
   "id": "e01cf0db-777e-488a-9e4b-8e3138d5623d",
   "metadata": {},
   "outputs": [],
   "source": [
    "b.color = vp.vector(1,1,0)"
   ]
  },
  {
   "cell_type": "code",
   "execution_count": null,
   "id": "1aab9808-add1-4702-aabe-54fc4955df8e",
   "metadata": {
    "tags": []
   },
   "outputs": [],
   "source": [
    "b.size = vp.vector(1,2,5)"
   ]
  },
  {
   "cell_type": "code",
   "execution_count": null,
   "id": "e48cc185-e305-44a9-81ae-16b69f1b7f89",
   "metadata": {
    "tags": []
   },
   "outputs": [],
   "source": [
    "b.pos = vp.vector(2,0,-5)"
   ]
  },
  {
   "cell_type": "code",
   "execution_count": null,
   "id": "1ad29fbb-e88f-43af-b8e3-7cb7306db3f3",
   "metadata": {
    "tags": []
   },
   "outputs": [],
   "source": [
    "# キャンバスの作成\n",
    "scene = vp.canvas(width=600, height=300, title='Cube-Spring') # Enable to restart\n",
    "# 3次元空間内の原点を見るために，球を原点に配置。\n",
    "orig = vp.sphere(pos=vp.vector(0,0,0), radius=0.1, color=vp.color.red)"
   ]
  },
  {
   "cell_type": "code",
   "execution_count": null,
   "id": "aced77b8-f91a-498e-9192-22b2a76ef49a",
   "metadata": {
    "tags": []
   },
   "outputs": [],
   "source": [
    "# オブジェクトの作成\n",
    "# 立方体\n",
    "cube_size = 1\n",
    "cube = vp.box(size=vp.vector(cube_size, cube_size, cube_size), color=vp.color.orange)\n",
    "cube.pos = vp.vector(0, cube.height/2, 0)"
   ]
  },
  {
   "cell_type": "code",
   "execution_count": null,
   "id": "d4a5aef7-a392-4f33-945e-3c3345791956",
   "metadata": {
    "tags": []
   },
   "outputs": [],
   "source": [
    "# 床\n",
    "floor = vp.box(length=5.0, height=0.1, width=cube_size+0.2, color=vp.color.green)\n",
    "floor.pos = vp.vector(0, -floor.height/2, 0)"
   ]
  },
  {
   "cell_type": "code",
   "execution_count": null,
   "id": "b3f76380-ad97-4601-bd74-2ff44b8a645f",
   "metadata": {
    "tags": []
   },
   "outputs": [],
   "source": [
    "# 壁\n",
    "wall  = vp.box(length=0.1, height=1.5, width=floor.width, color=vp.color.yellow)\n",
    "wall.pos = vp.vector((-wall.length/2-floor.length/2), (wall.height/2 - floor.height) , 0)"
   ]
  },
  {
   "cell_type": "code",
   "execution_count": null,
   "id": "990daaef-5923-456e-bae7-12036320255e",
   "metadata": {
    "tags": []
   },
   "outputs": [],
   "source": [
    "#equi_length = box_size/2+floor.height/2 #バネの自然長\n",
    "#wall_surface_pos = cube_size/2+floor.height/2"
   ]
  },
  {
   "cell_type": "code",
   "execution_count": null,
   "id": "dcb90805-4ce3-4b0c-ba7e-d6ad19154ae8",
   "metadata": {
    "tags": []
   },
   "outputs": [],
   "source": [
    "# バネ\n",
    "spring_pos_wall = vp.vector((wall.pos.x+wall.length/2), cube.pos.y, cube.pos.z )\n",
    "spring_pos_cube = vp.vector( (cube.pos.x-cube.length/2), cube.pos.y, cube.pos.z)\n",
    "spring = vp.helix(pos=spring_pos_wall, axis=(spring_pos_cube - spring_pos_wall), \n",
    "                  radius=0.2,     # バネ径の半径\n",
    "                  thickness=0.05, # バネ寸法\n",
    "                  coils=8,        # バネ巻数\n",
    "                  color=vp.vector(0, 1, 1) # cyan\n",
    "                 )"
   ]
  },
  {
   "cell_type": "code",
   "execution_count": null,
   "id": "7efd8598-d1b3-41fe-a9e3-85c0e23bde74",
   "metadata": {
    "tags": []
   },
   "outputs": [],
   "source": [
    "def func_pos(k):\n",
    "    return np.sin(k*0.1)\n",
    "\n",
    "for k in range(100):\n",
    "    vp.sleep(0.1)\n",
    "    x_pos = func_pos(k)\n",
    "    cube.pos = vp.vector(x_pos, cube.pos.y, 0)\n",
    "    spring_pos_cube = vp.vector( (cube.pos.x-cube.length/2), cube.pos.y, cube.pos.z)\n",
    "    spring.axis = spring_pos_cube - spring_pos_wall"
   ]
  },
  {
   "cell_type": "code",
   "execution_count": null,
   "id": "b0ec55d8-74c6-4f24-9ffb-6d6a8a8dcc88",
   "metadata": {},
   "outputs": [],
   "source": [
    "# -*- coding: utf-8 -*-\n",
    "import numpy as np\n",
    "import matplotlib.pyplot as plt\n",
    "import vpython as vp\n",
    "\n",
    "%matplotlib inline"
   ]
  },
  {
   "cell_type": "code",
   "execution_count": null,
   "id": "c1bfc689-32f1-4ab5-8798-064486d2f401",
   "metadata": {
    "tags": []
   },
   "outputs": [],
   "source": [
    "# Create Scene\n",
    "scene = vp.canvas(width=600, height=400, title='Animation') # Enable to restart\n",
    "scene.camera.pos  = vp.vector(0, 6, 10)\n",
    "scene.camera.axis = vp.vector(0, -2, -8) - scene.camera.pos"
   ]
  },
  {
   "cell_type": "code",
   "execution_count": null,
   "id": "1a6419a5-01c6-48e5-b72f-5dacaba4ff31",
   "metadata": {
    "tags": []
   },
   "outputs": [],
   "source": [
    "# 床の作成，床の真ん中を原点とする\n",
    "floor = vp.box(length=40, height=0.8, width=60, color=vp.color.green)\n",
    "floor.pos = vp.vector( 0, -(floor.height/2), -floor.width/2)"
   ]
  },
  {
   "cell_type": "code",
   "execution_count": null,
   "id": "99233ad0-bd82-4932-bc29-903b16fa006f",
   "metadata": {},
   "outputs": [],
   "source": [
    "# 球の作成\n",
    "ball_radius = 0.5 # 半径\n",
    "\n",
    "# 的球の初期位置のx座標\n",
    "b2_x_init = 2*ball_radius - ball_radius  # theta2 -> 30 [deg]\n",
    "#b2_x_init = 2*ball_radius - 0.59*ball_radius # theta2 -> 45 [deg]\n",
    "#b2_x_init = 2*ball_radius - 0.0076*ball_radius # almost theta2 -> 85 [deg]\n",
    "\n",
    "# 手球b1, 的球b2\n",
    "b1 = vp.sphere(pos=vp.vector(0, ball_radius, 0), radius=ball_radius, \\\n",
    "               color=vp.color.white)\n",
    "b2 = vp.sphere(pos=vp.vector(b2_x_init, ball_radius, -8), radius=ball_radius, \\\n",
    "               color=vp.color.red)"
   ]
  },
  {
   "cell_type": "code",
   "execution_count": null,
   "id": "67aad47c-062e-42be-9250-9b1058361424",
   "metadata": {
    "tags": []
   },
   "outputs": [],
   "source": [
    "# 各パラメータ\n",
    "v1, v2 = 0.4, 0   # 初期速度\n",
    "theta1, theta2=0, 0 # 初期角度\n",
    "c_rest = 0.8 # 反発係数，coefficient of restitution\n",
    "flag = False  # 衝突判定フラグ，Trueは衝突検知"
   ]
  },
  {
   "cell_type": "code",
   "execution_count": null,
   "id": "66d877ec-b018-4bc3-9a04-8affdf44c9f1",
   "metadata": {
    "tags": []
   },
   "outputs": [],
   "source": [
    "def ball_step(ball, v, theta):\n",
    "    coef1 = 1\n",
    "    x = coef1*v*np.sin(theta)\n",
    "    z = -coef1*v*np.cos(theta) # 奥行きがマイナスｚ軸方向ゆえ\"-\"がつく\n",
    "    ball.pos += vp.vector(x, 0, z)"
   ]
  },
  {
   "cell_type": "code",
   "execution_count": null,
   "id": "bdb725aa-60e1-4b20-8842-52b3bd05ec79",
   "metadata": {
    "tags": []
   },
   "outputs": [],
   "source": [
    "def check_collision():\n",
    "#def check_collision(b1, b2, flag):\n",
    "    global b1, b2, flag, v1, v2, theta1, theta2, c_rest\n",
    "    dx = b1.pos.x - b2.pos.x\n",
    "    dz = b1.pos.z - b2.pos.z\n",
    "    d = np.sqrt(dx*dx + dz*dz)\n",
    "    if d <= (b1.radius + b2.radius):\n",
    "        flag = True\n",
    "        theta2 = np.arcsin(-(b1.pos.x-b2.pos.x)/(2*b1.radius) )\n",
    "        theta1 = theta2 - np.pi/2\n",
    "        v2 = 0.5*v1*(1.0 + c_rest)\n",
    "        v1 = 0.5*v1*(1.0 - c_rest)"
   ]
  },
  {
   "cell_type": "code",
   "execution_count": null,
   "id": "149f3443-fd3c-46b6-8f6b-7c44eb56c5e8",
   "metadata": {
    "tags": []
   },
   "outputs": [],
   "source": [
    "for k in range(100):\n",
    "    vp.sleep(0.01)\n",
    "    ball_step(b1, v1, theta1)\n",
    "    ball_step(b2, v2, theta2)\n",
    "    if not flag:\n",
    "        check_collision()"
   ]
  },
  {
   "cell_type": "code",
   "execution_count": null,
   "id": "9d4a106c-ed21-4b8e-9644-d3d866ad291d",
   "metadata": {},
   "outputs": [],
   "source": [
    "# -*- coding: utf-8 -*-\n",
    "import numpy as np\n",
    "import vpython as vp\n",
    "import matplotlib.pyplot as plt \n",
    "from scipy.integrate import odeint\n",
    "from scipy.special import ellipk\n",
    "\n",
    "%matplotlib inline"
   ]
  },
  {
   "cell_type": "code",
   "execution_count": null,
   "id": "b3b5a566-1871-414b-aa48-dd294bcedb8d",
   "metadata": {
    "tags": []
   },
   "outputs": [],
   "source": [
    "def dFunc(x, time, string_len, g):\n",
    "    dx0 = x[1]\n",
    "    dx1 = -(g/string_len)*np.sin(x[0]) # string_len:糸の長さ\n",
    "    return [dx0, dx1]"
   ]
  },
  {
   "cell_type": "code",
   "execution_count": null,
   "id": "b76658be-71db-42ea-bca0-30f7659c7fc5",
   "metadata": {
    "tags": []
   },
   "outputs": [],
   "source": [
    "string1_len = 10\n",
    "theta1_ini = 20*(np.pi/180) # deg -> rad\n",
    "v1_ini= 0\n",
    "\n",
    "string2_len = 10\n",
    "theta2_ini = 60*(np.pi/180) # deg -> rad\n",
    "v2_ini = v1_ini"
   ]
  },
  {
   "cell_type": "code",
   "execution_count": null,
   "id": "7f6959fa-d62a-45ab-9993-88d08930b628",
   "metadata": {
    "tags": []
   },
   "outputs": [],
   "source": [
    "g = 9.80665 # 重力加速度\n",
    "#time=np.linspace(0,6.9,100)\n",
    "time = np.arange(0, 10, 0.01)\n",
    "sol_1 = odeint(dFunc, [theta1_ini, v1_ini], time, args=(string1_len,g,))\n",
    "sol_2 = odeint(dFunc, [theta2_ini, v2_ini], time, args=(string2_len,g,))"
   ]
  },
  {
   "cell_type": "code",
   "execution_count": null,
   "id": "e32a6bb2-9e5f-42be-b39f-7ebe9f3d6eab",
   "metadata": {
    "tags": []
   },
   "outputs": [],
   "source": [
    "print(len(sol_1))\n",
    "print(sol_1.ndim)\n",
    "print(sol_1.shape)\n",
    "print(sol_1.size)"
   ]
  },
  {
   "cell_type": "code",
   "execution_count": null,
   "id": "9dff7b9c-a3ba-47ba-8fe3-b7a3a14d4e3f",
   "metadata": {
    "tags": []
   },
   "outputs": [],
   "source": [
    "plt.plot(time, sol_1[:,0])\n",
    "plt.plot(time, sol_2[:,0])\n",
    "plt.legend([\"string1\", \"string2\"])\n",
    "plt.xlabel(\"time\")\n",
    "plt.ylabel(\"theta [rad]\")"
   ]
  },
  {
   "cell_type": "code",
   "execution_count": null,
   "id": "71abf337-8c69-4585-a312-0cdf881934ab",
   "metadata": {
    "tags": []
   },
   "outputs": [],
   "source": [
    "# Create Scene\n",
    "scene = vp.canvas(width=600, height=400, title='Pendulum Animation') # Enable to restart\n",
    "scene.camera.pos  = vp.vector(0, 6, 20)\n",
    "scene.camera.axis = vp.vector(0, 2, -100) - scene.camera.pos\n"
   ]
  },
  {
   "cell_type": "code",
   "execution_count": null,
   "id": "771ef2fa-c972-415b-9623-1b90aab2e5c2",
   "metadata": {
    "tags": []
   },
   "outputs": [],
   "source": [
    "floor = vp.box(pos=vp.vector(0,0,0),length=40, height=0.1, width=60, color=vp.color.green)\n",
    "#floor.pos = vp.vector( 0, -(floor.height/2), floor.width/2) # 床の端の真ん中を原点とする\n",
    "#print(floor.pos)"
   ]
  },
  {
   "cell_type": "code",
   "execution_count": null,
   "id": "22341fc0-4f58-487a-9617-f6d3322c24f5",
   "metadata": {
    "tags": []
   },
   "outputs": [],
   "source": [
    "origin = vp.sphere(pos=vp.vector(0, 0, 0), radius=0.5, color=vp.color.red) # show original point of 3D space\n",
    "#org    = vp.sphere(pos=vp.vector(1, 0, 1), radius=0.5, color=vp.color.cyan) # exam. position"
   ]
  },
  {
   "cell_type": "code",
   "execution_count": null,
   "id": "808ba601-18b5-41cf-8465-763348d70097",
   "metadata": {
    "tags": []
   },
   "outputs": [],
   "source": [
    "bar_height = string1_len+2.0\n",
    "bar = vp.cylinder(pos=vp.vector(0, bar_height, 0), axis=vp.vector(0,0,-10), radius=0.5, color=vp.color.white)"
   ]
  },
  {
   "cell_type": "code",
   "execution_count": null,
   "id": "8a2b95d7-cd89-4b22-9e00-488b6d224f37",
   "metadata": {
    "tags": []
   },
   "outputs": [],
   "source": [
    "node1 = vp.vector(0, bar.pos.y, 0)\n",
    "end1 = vp.vector( string1_len*np.sin(theta1_ini),  bar.pos.y-string1_len*np.cos(theta1_ini), 0)\n",
    "str1 = vp.cylinder(pos=node1, axis=-(node1-end1), radius=0.02, color=vp.color.yellow)\n",
    "#m1 = vp.sphere(pos=end1, radius=1, color=vp.color.white)\n",
    "m1 = vp.cone(pos=end1, axis=vp.vector(0, -1, 0), radius=0.5, color=vp.color.white)"
   ]
  },
  {
   "cell_type": "code",
   "execution_count": null,
   "id": "ea9d73d9-78f7-467b-8449-7d8d5dd0ffc8",
   "metadata": {
    "tags": []
   },
   "outputs": [],
   "source": [
    "node2 = vp.vector(0, bar.pos.y, -5)\n",
    "end2 = vp.vector( string2_len*np.sin(theta2_ini),  bar.pos.y-string2_len*np.cos(theta2_ini), node2.z)\n",
    "str2 = vp.cylinder(pos=node2, axis=-(node2-end2), radius=0.02, color=vp.color.yellow)\n",
    "#m2 = vp.sphere(pos=end2, radius=1, color=vp.color.white)\n",
    "m2 = vp.cone(pos=end2, axis=vp.vector(0, -1, 0), radius=0.5, color=vp.color.white)"
   ]
  },
  {
   "cell_type": "code",
   "execution_count": null,
   "id": "b80df10d-b0a6-4452-bc38-adf122116af4",
   "metadata": {
    "tags": []
   },
   "outputs": [],
   "source": [
    "tstart, tend = 0.0, 0.0\n",
    "dt = 0.1\n",
    "nstep = 5\n",
    "theta1 = theta1_ini\n",
    "v1 = v1_ini\n",
    "\n",
    "theta2 = theta2_ini\n",
    "v2 = v2_ini\n",
    "\n",
    "vp.sleep(3)\n",
    "\n",
    "for k in range(200):\n",
    "    vp.sleep(0.01)\n",
    "    tstart = k*dt\n",
    "    tend = (k+1)*dt\n",
    "    time = np.linspace(tstart, tend, nstep)\n",
    "    sol_1 = odeint(dFunc, [theta1, v1], time, args=(string1_len,g,))\n",
    "    sol_2 = odeint(dFunc, [theta2, v2], time, args=(string2_len,g,))\n",
    "\n",
    "    #    print(k,sol_1[k][0])\n",
    "    theta1 = sol_1[nstep-1][0] # angle\n",
    "    v1     = sol_1[nstep-1][1] # angular velocity\n",
    "\n",
    "    theta2 = sol_2[nstep-1][0]\n",
    "    v2     = sol_2[nstep-1][1]\n",
    "#    print(k,theta1)\n",
    "    end1 = vp.vector( string1_len*np.sin(theta1),  bar.pos.y-string1_len*np.cos(theta1), 0)\n",
    "#    print(end1)\n",
    "    str1.axis = -(node1-end1)\n",
    "    m1.pos = end1\n",
    "    \n",
    "    end2 = vp.vector( string2_len*np.sin(theta2),  bar.pos.y-string2_len*np.cos(theta2), node2.z)\n",
    "    str2.axis =-(node2-end2)\n",
    "    m2.pos = end2  "
   ]
  },
  {
   "cell_type": "code",
   "execution_count": null,
   "id": "76e50329-bc6b-47e9-b631-2c28d4aa5487",
   "metadata": {
    "tags": []
   },
   "outputs": [],
   "source": [
    "deg_list = np.arange(5, 95, 5) # 0 - 90, 5 deg step\n",
    "periodT = np.zeros(np.size(deg_list))\n",
    "k = 0\n",
    "for deg in deg_list:\n",
    "    periodT[k] = (2/np.pi)*ellipk( np.sin( (deg*np.pi/180)/2. )**2 )\n",
    "    print(k, deg, periodT[k])\n",
    "    k += 1"
   ]
  },
  {
   "cell_type": "code",
   "execution_count": null,
   "id": "8a9c7ff5-4ded-4836-af8c-0c891e2a831e",
   "metadata": {
    "tags": []
   },
   "outputs": [],
   "source": [
    "plt.plot(deg_list, periodT, marker='x')\n",
    "plt.xlabel('theta_M [deg]')\n",
    "plt.ylabel('T')\n",
    "plt.grid()\n",
    "#plt.savefig('fig_Anima_Pendulum_Analysis.png')\n",
    "\n",
    "plt.show()"
   ]
  },
  {
   "cell_type": "code",
   "execution_count": null,
   "id": "1cb80d96-6595-40e3-973d-60b29aa999cd",
   "metadata": {},
   "outputs": [],
   "source": []
  }
 ],
 "metadata": {
  "kernelspec": {
   "display_name": "Python 3 (ipykernel)",
   "language": "python",
   "name": "python3"
  },
  "language_info": {
   "codemirror_mode": {
    "name": "ipython",
    "version": 3
   },
   "file_extension": ".py",
   "mimetype": "text/x-python",
   "name": "python",
   "nbconvert_exporter": "python",
   "pygments_lexer": "ipython3",
   "version": "3.11.3"
  }
 },
 "nbformat": 4,
 "nbformat_minor": 5
}
