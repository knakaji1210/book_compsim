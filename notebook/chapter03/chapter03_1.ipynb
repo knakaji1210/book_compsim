{
 "cells": [
  {
   "cell_type": "code",
   "execution_count": null,
   "id": "da3912fb",
   "metadata": {
    "tags": []
   },
   "outputs": [],
   "source": [
    "# -*- coding: utf-8 -*-\n",
    "import numpy as np\n",
    "import matplotlib.pyplot as plt\n",
    "import matplotlib.animation as animation\n",
    "%matplotlib nbagg\n",
    "\n",
    "# 以下を参考に別のやり方でJupyter Lab上でアニメーションができるように変更\n",
    "# https://qiita.com/fhiyo/items/0ea94b0de6cd5c76d67a\n",
    "from IPython.display import HTML\n"
   ]
  },
  {
   "cell_type": "code",
   "execution_count": null,
   "id": "8a147fa4",
   "metadata": {
    "tags": []
   },
   "outputs": [],
   "source": [
    "fig = plt.figure()\n",
    "imgBuffer = []\n",
    "\n",
    "mark_list = [\"4\", \"8\", \"p\", \"*\", \"x\", \"D\", \"4\", \"8\", \"p\", \"*\"]\n",
    "# 4:tri-rignt, 8:octagon, p:pentagon, *:star, x:x, D:diamond\n",
    "loop = len(mark_list)\n",
    "num = 8\n",
    "\n",
    "for i in range(loop):\n",
    "    x = np.random.randn(num)\n",
    "    y = np.random.randn(num)\n",
    "    img = plt.plot(x, y, linewidth=0, marker=mark_list[i], markersize=15)\n",
    "    imgBuffer.append(img)\n",
    "\n",
    "\n",
    "# ts [ms]毎にnum毎のグラフの表示を切替えるアニメーション\n",
    "ts = 300\n",
    "ani = animation.ArtistAnimation(fig, imgBuffer, interval=ts, repeat=False)\n",
    "ani.save(\"./gif/anim01.gif\")\n",
    "\n",
    "HTML(ani.to_jshtml()) # これが追加された方法"
   ]
  },
  {
   "cell_type": "code",
   "execution_count": null,
   "id": "42773203",
   "metadata": {},
   "outputs": [],
   "source": [
    "fig = plt.figure(figsize=(6,2))\n",
    "x = np.arange(0, 10, 0.01)\n",
    "\n",
    "def update(k, fig_title, Amp):\n",
    "    plt.cla()       # Figureの中のアクティブなAxesをクリア\n",
    "    y = Amp*np.sin(x-k)\n",
    "    plt.plot(x, y, 'r')\n",
    "    plt.xlim(0, 10)\n",
    "    plt.ylim(-1.2*Amp, 1.2*Amp)\n",
    "    plt.title(fig_title + 'Frame k={}'.format(k))\n",
    "    \n",
    "# interval [ms],  frames: 描くフレーム数, repeat: Falseは1回のみ，Trueは繰返しプロット\n",
    "ani = animation.FuncAnimation(fig, update, fargs = ('Animation, ', 1.8), \\\n",
    "    interval = 100, frames = 32, repeat=False)\n",
    "ani.save(\"./gif/anim02.gif\")\n",
    "\n",
    "'''\n",
    "fargs:\n",
    "第2引数のupdate関数に2つ以上の引数を設けたい場合に、2つ目以降の引数を指定することが出来るオプション。\n",
    "上記のサンプルプログラムの例だと、update関数の第2引数fig_titleに'Animation, 'が、第3引数Ampに1.8がそれぞれ渡される。\n",
    "'''\n",
    "\n",
    "HTML(ani.to_jshtml())"
   ]
  },
  {
   "cell_type": "code",
   "execution_count": null,
   "id": "b988e96d-f983-415d-bf0e-4cfcbfebf71d",
   "metadata": {
    "tags": []
   },
   "outputs": [],
   "source": [
    "fig = plt.figure(figsize=(6,2))\n",
    "\n",
    "xstart, xend, xdt = 0, 10, 0.05\n",
    "x = np.arange(xstart, xend, xdt)\n",
    "\n",
    "def update2(k, fig_title, coef):\n",
    "    plt.cla()    # Axesをクリア , Figureの中のアクティブなAxesをクリア\n",
    "    x = np.arange(xstart+k*xdt, xend+k*xdt, xdt)\n",
    "    y = np.exp( -coef*(np.sin(x)**2))*np.cos(x)\n",
    "    plt.plot(x, y, c='r')\n",
    "    plt.title(fig_title + 'Frame k={}'.format(k))\n",
    "    plt.ylim(-1.2, 1.2)\n",
    "\n",
    "\n",
    "ani = animation.FuncAnimation(fig, update2, fargs = ('Animation  ', 5.0), \\\n",
    "    interval = 10, frames = 150, repeat=False)\n",
    "ani.save(\"./gif/anim03.gif\")\n",
    "\n",
    "HTML(ani.to_jshtml())"
   ]
  },
  {
   "cell_type": "code",
   "execution_count": null,
   "id": "91fec869-8dc1-4fde-9c7f-4d05d02d0d1a",
   "metadata": {},
   "outputs": [],
   "source": []
  }
 ],
 "metadata": {
  "kernelspec": {
   "display_name": "Python 3 (ipykernel)",
   "language": "python",
   "name": "python3"
  },
  "language_info": {
   "codemirror_mode": {
    "name": "ipython",
    "version": 3
   },
   "file_extension": ".py",
   "mimetype": "text/x-python",
   "name": "python",
   "nbconvert_exporter": "python",
   "pygments_lexer": "ipython3",
   "version": "3.11.3"
  }
 },
 "nbformat": 4,
 "nbformat_minor": 5
}
