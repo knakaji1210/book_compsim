{
 "cells": [
  {
   "cell_type": "code",
   "execution_count": null,
   "id": "7657fbef-db85-45f0-acdd-1645412f0104",
   "metadata": {
    "tags": []
   },
   "outputs": [],
   "source": [
    "# -*- coding: utf-8 -*-\n",
    "%matplotlib inline\n",
    "import numpy as np\n",
    "import matplotlib.pyplot as plt"
   ]
  },
  {
   "cell_type": "code",
   "execution_count": null,
   "id": "3973c219-fa5b-4d3c-9772-9b896cd8a3cf",
   "metadata": {
    "tags": []
   },
   "outputs": [],
   "source": [
    "x = np.linspace(-3, 3, 20)"
   ]
  },
  {
   "cell_type": "code",
   "execution_count": null,
   "id": "ef8a2942-9296-4c3a-823a-82bb77ecb0e3",
   "metadata": {
    "tags": []
   },
   "outputs": [],
   "source": [
    "y1 = x\n",
    "y2 = x ** 2\n",
    "y3 = x ** 3\n",
    "y4 = x ** 4"
   ]
  },
  {
   "cell_type": "code",
   "execution_count": null,
   "id": "71603e69-d99e-45b1-9f5e-d31c7f25d9af",
   "metadata": {
    "tags": []
   },
   "outputs": [],
   "source": [
    "fig = plt.subplots(figsize=(10,3)) # size [inch, inch]\n",
    "plt.plot(x, y2, c='k', label='y2')\n",
    "plt.plot(x, y3, c='r', label='y3', linestyle='dashed')\n",
    "\n",
    "plt.xlabel('x')\n",
    "plt.ylabel('y')\n",
    "plt.title('Example')\n",
    "plt.grid()\n",
    "plt.legend(loc='lower right')"
   ]
  },
  {
   "cell_type": "code",
   "execution_count": null,
   "id": "5f1d447d-bc34-4f3f-8ca7-5637a0635c25",
   "metadata": {
    "tags": []
   },
   "outputs": [],
   "source": [
    "fig, axs = plt.subplots(nrows=2, ncols=2, figsize=(12,8))\n",
    "\n",
    "axs[0,0].plot(x, y1, label='y1') # upper left\n",
    "axs[0,1].plot(x, y2, label='y2') # upper right\n",
    "axs[1,0].plot(x, y3, label='y3') # lower left\n",
    "axs[1,1].plot(x, y4, label='y4') # upper left\n",
    "\n",
    "axs[0,0].set_xlabel('x')\n",
    "axs[0,0].set_ylabel('y')\n",
    "axs[0,0].grid()\n",
    "axs[0,0].legend()\n",
    "\n",
    "plt.tight_layout()\n",
    "plt.savefig('./png/IN_matplotlib1.png')"
   ]
  },
  {
   "cell_type": "code",
   "execution_count": null,
   "id": "2645d005-b403-46ed-a535-40ed9c1d134a",
   "metadata": {
    "tags": []
   },
   "outputs": [],
   "source": [
    "fig, axs = plt.subplots(nrows=2, ncols=2, figsize=(12,8))\n",
    "\n",
    "axs[0,0].plot(x, y1, label='y1') # upper left\n",
    "axs[0,1].plot(x, y2, label='y2') # upper right\n",
    "axs[1,0].plot(x, y3, label='y3') # lower left\n",
    "axs[1,1].plot(x, y4, label='y4') # upper left\n",
    "\n",
    "axs[0,1].set_xlabel('x')\n",
    "axs[0,1].set_ylabel('y')\n",
    "axs[0,1].grid()\n",
    "axs[0,1].legend()\n",
    "\n",
    "plt.savefig('./png/IN_matplotlib2.png', bbox_inches='tight')"
   ]
  },
  {
   "cell_type": "code",
   "execution_count": null,
   "id": "8cb4f806-6c79-4608-8a8e-8440c8042625",
   "metadata": {
    "tags": []
   },
   "outputs": [],
   "source": [
    "%lsmagic"
   ]
  },
  {
   "cell_type": "code",
   "execution_count": null,
   "id": "6e0b8cf2-0e96-4e4c-bf15-2c6e5904c50c",
   "metadata": {},
   "outputs": [],
   "source": []
  }
 ],
 "metadata": {
  "kernelspec": {
   "display_name": "Python 3 (ipykernel)",
   "language": "python",
   "name": "python3"
  },
  "language_info": {
   "codemirror_mode": {
    "name": "ipython",
    "version": 3
   },
   "file_extension": ".py",
   "mimetype": "text/x-python",
   "name": "python",
   "nbconvert_exporter": "python",
   "pygments_lexer": "ipython3",
   "version": "3.11.3"
  }
 },
 "nbformat": 4,
 "nbformat_minor": 5
}
