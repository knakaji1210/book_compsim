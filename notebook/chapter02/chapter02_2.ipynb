{
 "cells": [
  {
   "cell_type": "code",
   "execution_count": null,
   "id": "d0c3bda6",
   "metadata": {},
   "outputs": [],
   "source": [
    "# -*- coding: utf-8 -*-\n",
    "import numpy as np\n",
    "import scipy.stats as stats\n",
    "\n",
    "import matplotlib.pyplot as plt\n",
    "%matplotlib inline"
   ]
  },
  {
   "cell_type": "code",
   "execution_count": null,
   "id": "b7f6bef1",
   "metadata": {},
   "outputs": [],
   "source": [
    "# 二項分布\n",
    "# 成功確率p=0.5の硬貨を3回投げるときの確率分布\n",
    "n = 3\n",
    "k = np.arange(0, n+1) #各成功回数\n",
    "print(k)\n",
    "pmf = stats.binom.pmf(k, n, p=0.5)\n",
    "print(pmf)"
   ]
  },
  {
   "cell_type": "code",
   "execution_count": null,
   "id": "e32441f2",
   "metadata": {},
   "outputs": [],
   "source": [
    "# 二項分布\n",
    "# サイコロを8回振るとき，2以下の目の出た回数をXとするときのP(X > 3)の値\n",
    "n = 8\n",
    "k = np.arange(0, n+1) #各成功回数\n",
    "print(k)\n",
    "prob = stats.binom.pmf(k, n, p=2/6)\n",
    "print(pmf)\n",
    "sol = 1 - (prob[0]+prob[1]+prob[2])\n",
    "print(sol)"
   ]
  },
  {
   "cell_type": "code",
   "execution_count": null,
   "id": "51cb0b27",
   "metadata": {},
   "outputs": [],
   "source": [
    "# ポアソン分布\n",
    "# ある都市の交通事故は1日平均2.4件ある。1日に起こる交通事故の件数がポアソン分布に従うと仮定したとき，1日の交通事故が2件以下になる確率\n",
    "\n",
    "lamda = 2.4 # \"lambda\"は定義されていて使えない\n",
    "k = np.arange(0,3)\n",
    "print(k)\n",
    "prob = stats.poisson.pmf(k, lamda)\n",
    "print(prob)\n",
    "print(prob.sum())"
   ]
  },
  {
   "cell_type": "code",
   "execution_count": null,
   "id": "0d8bf883",
   "metadata": {},
   "outputs": [],
   "source": [
    "# ポアソン分布\n",
    "# あるお店の1時間当たり平均2.5人の来客がある。来客がポアソン分布に従うとしたとき，2時間の間に来店する客が2人以下である確率\n",
    "\n",
    "lamda = 2.5\n",
    "lamda_t = lamda*2\n",
    "k = np.arange(0,3)\n",
    "print(k)\n",
    "prob = stats.poisson.pmf(k, lamda_t)\n",
    "print(prob)\n",
    "print(prob.sum())"
   ]
  },
  {
   "cell_type": "code",
   "execution_count": null,
   "id": "34203399",
   "metadata": {},
   "outputs": [],
   "source": [
    "# ポアソン分布\n",
    "\n",
    "lamda = 1\n",
    "k = np.arange(0,11)\n",
    "print(k)\n",
    "prob = stats.poisson.pmf(k, lamda)\n",
    "print(prob)"
   ]
  },
  {
   "cell_type": "code",
   "execution_count": null,
   "id": "8acf5ca2",
   "metadata": {},
   "outputs": [],
   "source": [
    "# ポアソン分布\n",
    "# lambda = 1,...,5のときのポアソン分布のプロット\n",
    "\n",
    "k = np.arange(0, 11, 1)\n",
    "for lam in range(1, 6):\n",
    "    pmf = stats.poisson.pmf(k, lam)\n",
    "    plt.plot(k, pmf, marker='o', label='lambda = {}'.format(lam))\n",
    "plt.legend()\n",
    "plt.grid()"
   ]
  },
  {
   "cell_type": "code",
   "execution_count": null,
   "id": "02a84efb",
   "metadata": {},
   "outputs": [],
   "source": [
    "np.random.seed(123)\n",
    "\n",
    "m = 5   # mean\n",
    "std = 2 # standard deviation\n",
    "x = np.arange( -5, 15, 0.01)\n",
    "rvs = stats.norm.rvs(loc=m, scale=std, size=1000) # 引数locに平均、引数scaleに標準偏差、引数sizeに指定した数の値\n",
    "print(len(rvs))\n",
    "pdf = stats.norm.pdf(x, loc=m, scale=std) # 返り値pdfはxの値が発生する確率\n",
    "cdf = stats.norm.cdf(x, loc=m, scale=std)\n",
    "\n",
    "fig, ax = plt.subplots(ncols=2, figsize=(12,4))\n",
    "ax[0].plot(x, pdf, color='k', label='pdf')\n",
    "ax[0].hist(rvs, bins=40, density=True, label='rvs', color='lightgray') # density=Trueで正規化\n",
    "ax[0].set_xlabel('x')\n",
    "ax[0].set_ylabel('probabiity density')\n",
    "ax[0].legend()\n",
    "ax[0].grid()\n",
    "\n",
    "ax[1].plot(x, pdf, color='k', label='pdf')\n",
    "ax[1].plot(x, cdf, color='r', label='cdf')\n",
    "ax[1].set_xlabel('x')\n",
    "ax[1].set_ylabel('probabiity density')\n",
    "ax[1].legend()\n",
    "ax[1].grid()\n",
    "\n",
    "plt.show()"
   ]
  },
  {
   "cell_type": "code",
   "execution_count": null,
   "id": "95ff22be",
   "metadata": {},
   "outputs": [],
   "source": []
  }
 ],
 "metadata": {
  "kernelspec": {
   "display_name": "Python 3 (ipykernel)",
   "language": "python",
   "name": "python3"
  },
  "language_info": {
   "codemirror_mode": {
    "name": "ipython",
    "version": 3
   },
   "file_extension": ".py",
   "mimetype": "text/x-python",
   "name": "python",
   "nbconvert_exporter": "python",
   "pygments_lexer": "ipython3",
   "version": "3.11.3"
  }
 },
 "nbformat": 4,
 "nbformat_minor": 5
}
