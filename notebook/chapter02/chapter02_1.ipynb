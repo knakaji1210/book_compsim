{
 "cells": [
  {
   "cell_type": "code",
   "execution_count": null,
   "id": "bd7b2dae-cf52-4aa4-a3ea-3c662c9586b0",
   "metadata": {
    "tags": []
   },
   "outputs": [],
   "source": [
    "import sys\n",
    "sys.float_info.epsilon"
   ]
  },
  {
   "cell_type": "code",
   "execution_count": null,
   "id": "775e7297-a2c4-4a3d-82ba-c7c5681ba15a",
   "metadata": {
    "tags": []
   },
   "outputs": [],
   "source": [
    "import numpy as np"
   ]
  },
  {
   "cell_type": "code",
   "execution_count": null,
   "id": "091dd0e3-6195-4c54-b370-d48af40537ce",
   "metadata": {
    "tags": []
   },
   "outputs": [],
   "source": [
    "np.finfo(np.float32).eps"
   ]
  },
  {
   "cell_type": "code",
   "execution_count": null,
   "id": "e116155c-bd66-4429-80ec-08cf1d4b2021",
   "metadata": {
    "tags": []
   },
   "outputs": [],
   "source": [
    "np.finfo(np.float64).eps"
   ]
  },
  {
   "cell_type": "code",
   "execution_count": null,
   "id": "45ae5f40-a580-4ae9-b3fd-f68877d3887d",
   "metadata": {
    "tags": []
   },
   "outputs": [],
   "source": [
    "a = 0.1 * 10\n",
    "b = sum(0.1 for _ in range(10))"
   ]
  },
  {
   "cell_type": "code",
   "execution_count": null,
   "id": "8513a1a8-ed9e-4fff-9570-955c987461bf",
   "metadata": {
    "tags": []
   },
   "outputs": [],
   "source": [
    "a == b"
   ]
  },
  {
   "cell_type": "code",
   "execution_count": null,
   "id": "0fc231cd-c809-4092-8868-fdb279f46964",
   "metadata": {
    "tags": []
   },
   "outputs": [],
   "source": [
    "abs(a - b) < sys.float_info.epsilon * max(abs(a), abs(b))"
   ]
  },
  {
   "cell_type": "code",
   "execution_count": null,
   "id": "fa2d33d8-4991-4a73-b4f1-1421a62f2488",
   "metadata": {
    "tags": []
   },
   "outputs": [],
   "source": [
    "loopmax = 1000\n",
    "time1 = 0\n",
    "\n",
    "dT = 10 ** (-8)\n",
    "for i in range(loopmax):\n",
    "    time1 += dT"
   ]
  },
  {
   "cell_type": "code",
   "execution_count": null,
   "id": "3092f5cb-5479-4d78-be18-830d14446aaa",
   "metadata": {
    "tags": []
   },
   "outputs": [],
   "source": [
    "print(time1)"
   ]
  },
  {
   "cell_type": "code",
   "execution_count": null,
   "id": "7243ffe3-fab5-402f-a200-0a89036b4ae8",
   "metadata": {
    "tags": []
   },
   "outputs": [],
   "source": [
    "# 情報落ちを避ける方法\n",
    "count = 0\n",
    "for i in range(loopmax):\n",
    "    count += 1\n",
    "    time2 = count * dT"
   ]
  },
  {
   "cell_type": "code",
   "execution_count": null,
   "id": "6cfb2a4e-9f1e-4d6b-9acb-35a36517859b",
   "metadata": {
    "tags": []
   },
   "outputs": [],
   "source": [
    "print(time2)"
   ]
  },
  {
   "cell_type": "code",
   "execution_count": null,
   "id": "dfbc0097-8c0c-4cb9-a133-96919bf982df",
   "metadata": {
    "tags": []
   },
   "outputs": [],
   "source": [
    "a = np.float32(1000.)\n",
    "b = np.float32(10 ** (-8))\n",
    "print(type(a), type(b), type(np.sqrt(b)))\n",
    "x1 = (2*a + np.sqrt((2*a)**2 - 4*(a**2 - b)))/2\n",
    "x2 = (2*a + np.sqrt( ((2*a)**2 - 4*(a**2)) + 4*b))/2\n",
    "x3 = a + np.sqrt(b)\n",
    "print(x1, x2, x3)"
   ]
  },
  {
   "cell_type": "code",
   "execution_count": null,
   "id": "60f2daf7-be70-4e36-8b24-2e06bcaef06a",
   "metadata": {
    "tags": []
   },
   "outputs": [],
   "source": [
    "# numpy.roots\n",
    "# numpy.roots(p)\n",
    "# Return the roots of a polynomial with coefficients given in p.\n",
    "\n",
    "np.roots([1.0, -2*a, a**2 -b])"
   ]
  },
  {
   "cell_type": "code",
   "execution_count": null,
   "id": "4051d7da-a916-4f7f-8875-684022b24d0c",
   "metadata": {
    "tags": []
   },
   "outputs": [],
   "source": [
    "# https://en.wikipedia.org/wiki/Newton%27s_method\n",
    "\n",
    "def newton_method(f, df, x0, eps):\n",
    "    for i in range(1, 100):\n",
    "        x = x0 - f(x0)/df(x0)\n",
    "        print(i, x)\n",
    "        if abs(x - x0) < eps: break\n",
    "        x0 = x\n",
    "    return x0, i"
   ]
  },
  {
   "cell_type": "code",
   "execution_count": null,
   "id": "fa8418de-373a-494a-98f3-455fdb471684",
   "metadata": {
    "tags": []
   },
   "outputs": [],
   "source": [
    "def f1(x): # function\n",
    "    return x*x - 9.0\n",
    "\n",
    "def df1(x): # derivative\n",
    "    return 2.0*x\n",
    "\n",
    "eps = 1.e-4 # tolerance\n",
    "x0 = 1.0    # initial value\n",
    "x, i = newton_method(f1, df1, x0, eps)\n",
    "print('Solution = {0}, The number of iteration = {1}'.format(x, i))"
   ]
  },
  {
   "cell_type": "code",
   "execution_count": null,
   "id": "71808f40-7c93-41c7-b016-31bccbc01da3",
   "metadata": {},
   "outputs": [],
   "source": [
    "import sympy as symp"
   ]
  },
  {
   "cell_type": "code",
   "execution_count": null,
   "id": "0c440d65",
   "metadata": {},
   "outputs": [],
   "source": [
    "X = symp.Symbol('X')\n",
    "expr = 3*symp.atan(X-1) + X/4\n",
    "symp.diff(expr, X)"
   ]
  },
  {
   "cell_type": "code",
   "execution_count": null,
   "id": "34dba6ad",
   "metadata": {},
   "outputs": [],
   "source": [
    "def f2(x):\n",
    "    return 3*np.arctan(x-1) + x/4\n",
    "\n",
    "def df2(x):\n",
    "    return 3/((x-1)**2 + 1) + 1/4\n",
    "\n",
    "eps = 1.e-4\n",
    "x0 = 2.5\n",
    "x, i = newton_method(f2, df2, x0, eps)\n",
    "print('Solution = {0}, The number of iteration = {1}'.format(x, i))"
   ]
  },
  {
   "cell_type": "code",
   "execution_count": null,
   "id": "1a2cd851",
   "metadata": {},
   "outputs": [],
   "source": [
    "def f2(x):\n",
    "    return 3*np.arctan(x-1) + x/4\n",
    "\n",
    "def df2(x):\n",
    "    return 3/((x-1)**2 + 1) + 1/4\n",
    "\n",
    "eps = 1.e-4\n",
    "x0 = 3.0\n",
    "x, i = newton_method(f2, df2, x0, eps)\n",
    "print('Solution = {0}, The number of iteration = {1}'.format(x, i))"
   ]
  },
  {
   "cell_type": "code",
   "execution_count": null,
   "id": "542a1e98",
   "metadata": {},
   "outputs": [],
   "source": [
    "%matplotlib inline\n",
    "import matplotlib.pyplot as plt"
   ]
  },
  {
   "cell_type": "code",
   "execution_count": null,
   "id": "e8f6e963",
   "metadata": {},
   "outputs": [],
   "source": [
    "x = np.linspace(-10, 10, 50)\n",
    "y1 = f2(x)\n",
    "y2 = df2(2.5)*(x - 2.5) + f2(2.5)\n",
    "y3 = df2(3.0)*(x - 3.0) + f2(3.0)\n",
    "plt.plot(x, y1, c='k', label='y1')\n",
    "plt.plot(x, y2, c='r', label='y2')\n",
    "plt.plot(x, y3, c='b', label='y3')\n",
    "plt.grid()\n",
    "plt.legend(loc='lower right')"
   ]
  },
  {
   "cell_type": "code",
   "execution_count": null,
   "id": "16959829",
   "metadata": {},
   "outputs": [],
   "source": [
    "import scipy as sp"
   ]
  },
  {
   "cell_type": "code",
   "execution_count": null,
   "id": "32649c32",
   "metadata": {},
   "outputs": [],
   "source": [
    "# numpyのみならずscipyの確率の関数の初期値を定める\n",
    "np.random.seed(123)\n",
    "\n",
    "num = 20\n",
    "x = np.arange(0,num,1)\n",
    "y = 1.2*x + sp.stats.uniform(loc=-10.0, scale=10.0).rvs(num)\n",
    "\n",
    "plt.scatter(x, y, color='k')\n",
    "plt.grid()\n",
    "plt.xlabel('x')\n",
    "plt.ylabel('y')"
   ]
  },
  {
   "cell_type": "code",
   "execution_count": null,
   "id": "ff42322e",
   "metadata": {},
   "outputs": [],
   "source": [
    "p5 = np.polyfit(x, y, deg=5)\n",
    "# print(p5)\n",
    "p15 = np.polyfit(x, y, deg=15)\n",
    "# print(p15)\n",
    "xx = np.linspace(np.min(x), np.max(x), 200)\n",
    "y5 = np.polyval(p5, xx)\n",
    "y15 = np.polyval(p15, xx)\n",
    "\n",
    "plt.scatter(x, y, color='k')\n",
    "plt.plot(xx, y5)\n",
    "plt.plot(xx, y15)\n",
    "plt.grid()\n",
    "plt.xlabel('x')\n",
    "plt.ylabel('y')"
   ]
  },
  {
   "cell_type": "code",
   "execution_count": null,
   "id": "ae83daf8",
   "metadata": {},
   "outputs": [],
   "source": [
    "from scipy.interpolate import make_interp_spline"
   ]
  },
  {
   "cell_type": "code",
   "execution_count": null,
   "id": "8a219942",
   "metadata": {},
   "outputs": [],
   "source": [
    "plt.scatter(x, y, color='k')\n",
    "\n",
    "for k in [1, 2, 3]:\n",
    "    sp_i = make_interp_spline(x, y, k=k)\n",
    "    plt.plot(xx, sp_i(xx), label=f'Interpolation spline (k={k})')\n",
    "\n",
    "plt.plot()\n",
    "plt.grid()\n",
    "plt.legend()\n",
    "plt.xlabel('x')\n",
    "plt.ylabel('y')"
   ]
  },
  {
   "cell_type": "code",
   "execution_count": null,
   "id": "08524936",
   "metadata": {},
   "outputs": [],
   "source": [
    "# https://ja.wikipedia.org/wiki/ルンゲ現象\n",
    "\n",
    "num = 11\n",
    "x2 = np.linspace(-1, 1, num)\n",
    "y2 = (2/(1 + 16 * x2 ** 2)) - 1\n",
    "\n",
    "p = np.polyfit(x2, y2, deg=10)\n",
    "xx = np.linspace(-1, 1, 200)\n",
    "yy = np.polyval(p, xx)\n",
    "\n",
    "plt.scatter(x2, y2, c='k')\n",
    "plt.plot(xx, yy, c='g')\n",
    "\n",
    "plt.xlabel('x')\n",
    "plt.ylabel('y')\n",
    "plt.grid()"
   ]
  },
  {
   "cell_type": "code",
   "execution_count": null,
   "id": "6825b6ea",
   "metadata": {},
   "outputs": [],
   "source": [
    "from scipy.integrate import solve_ivp\n",
    "\n",
    "def dFunc(time, x, mass, damper, spring, u):\n",
    "    dx0 = x[1]\n",
    "    dx1 = (-1/mass)*(damper*x[1] + spring*x[0] - u)  # x[0]がx, x[1]がvに相当\n",
    "    return [dx0, dx1]"
   ]
  },
  {
   "cell_type": "code",
   "execution_count": null,
   "id": "ee1c0811",
   "metadata": {},
   "outputs": [],
   "source": [
    "x0 = [0.0, 0.0]\n",
    "u = 1.0\n",
    "mass, damper, spring = 4.0, 1.0, 1.0\n",
    "T_END = 20"
   ]
  },
  {
   "cell_type": "code",
   "execution_count": null,
   "id": "934b8d75",
   "metadata": {},
   "outputs": [],
   "source": [
    "# Solve ODE\n",
    "sol = solve_ivp(fun=dFunc, t_span=[0, T_END], y0=x0, method='RK45', args=[mass, damper, spring, u], dense_output=True)"
   ]
  },
  {
   "cell_type": "code",
   "execution_count": null,
   "id": "4184d424",
   "metadata": {},
   "outputs": [],
   "source": [
    "print(type(sol))\n",
    "print(sol)"
   ]
  },
  {
   "cell_type": "code",
   "execution_count": null,
   "id": "5d16d80d",
   "metadata": {},
   "outputs": [],
   "source": [
    "print(sol.t.size)\n",
    "print(sol.t)\n",
    "print(sol.y[0].size, sol.y[1].size)\n",
    "print(sol.y)"
   ]
  },
  {
   "cell_type": "code",
   "execution_count": null,
   "id": "1bafcead",
   "metadata": {},
   "outputs": [],
   "source": [
    "tc = np.linspace(0, T_END, 100)\n",
    "yc = sol.sol(tc)"
   ]
  },
  {
   "cell_type": "code",
   "execution_count": null,
   "id": "ebc04338",
   "metadata": {},
   "outputs": [],
   "source": [
    "fig, ax = plt.subplots(ncols=2, figsize=(12,4))\n",
    "\n",
    "#ax[0].plot(sol.t, sol.y.T)\n",
    "ax[0].plot(sol.t, sol.y[0].T, label='x')\n",
    "ax[0].plot(sol.t, sol.y[1].T, label='v')\n",
    "ax[0].set_xlabel('t')\n",
    "ax[0].set_ylabel('x(t), v(t)')\n",
    "ax[0].grid()\n",
    "ax[0].legend()\n",
    "\n",
    "ax[1].plot(tc, yc[0].T, label='x')\n",
    "ax[1].plot(tc, yc[1].T, label='v')\n",
    "ax[1].set_xlabel('t')\n",
    "ax[1].set_ylabel('x(t), v(t)')\n",
    "ax[1].grid()\n",
    "ax[1].legend()"
   ]
  },
  {
   "cell_type": "code",
   "execution_count": null,
   "id": "14d0c061",
   "metadata": {},
   "outputs": [],
   "source": []
  }
 ],
 "metadata": {
  "kernelspec": {
   "display_name": "Python 3 (ipykernel)",
   "language": "python",
   "name": "python3"
  },
  "language_info": {
   "codemirror_mode": {
    "name": "ipython",
    "version": 3
   },
   "file_extension": ".py",
   "mimetype": "text/x-python",
   "name": "python",
   "nbconvert_exporter": "python",
   "pygments_lexer": "ipython3",
   "version": "3.11.3"
  }
 },
 "nbformat": 4,
 "nbformat_minor": 5
}
